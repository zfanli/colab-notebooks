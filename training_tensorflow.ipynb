{
  "nbformat": 4,
  "nbformat_minor": 0,
  "metadata": {
    "colab": {
      "name": "training_tensorflow.ipynb",
      "provenance": [],
      "collapsed_sections": [],
      "authorship_tag": "ABX9TyMfa4X/tGjqYiawSBXHIVKg",
      "include_colab_link": true
    },
    "kernelspec": {
      "name": "python3",
      "display_name": "Python 3"
    }
  },
  "cells": [
    {
      "cell_type": "markdown",
      "metadata": {
        "id": "view-in-github",
        "colab_type": "text"
      },
      "source": [
        "<a href=\"https://colab.research.google.com/github/zfanli/colab-notebooks/blob/master/training_tensorflow.ipynb\" target=\"_parent\"><img src=\"https://colab.research.google.com/assets/colab-badge.svg\" alt=\"Open In Colab\"/></a>"
      ]
    },
    {
      "cell_type": "markdown",
      "metadata": {
        "id": "1ZB7g-AzHHKo",
        "colab_type": "text"
      },
      "source": [
        "## training tensorflow"
      ]
    },
    {
      "cell_type": "markdown",
      "metadata": {
        "id": "rKmc6g0zHmEc",
        "colab_type": "text"
      },
      "source": [
        "Specify the version of tensorflow for further use."
      ]
    },
    {
      "cell_type": "code",
      "metadata": {
        "id": "07QYvCXkHklU",
        "colab_type": "code",
        "outputId": "e4531cac-3c87-491f-8c8c-4c2ba9893d17",
        "colab": {
          "base_uri": "https://localhost:8080/",
          "height": 34
        }
      },
      "source": [
        "%tensorflow_version 2.x"
      ],
      "execution_count": 1,
      "outputs": [
        {
          "output_type": "stream",
          "text": [
            "TensorFlow 2.x selected.\n"
          ],
          "name": "stdout"
        }
      ]
    },
    {
      "cell_type": "markdown",
      "metadata": {
        "id": "D0ka0swcITnw",
        "colab_type": "text"
      },
      "source": [
        "Then import tensorflow."
      ]
    },
    {
      "cell_type": "code",
      "metadata": {
        "id": "iGIZDZcAISdW",
        "colab_type": "code",
        "outputId": "10b683d0-7fc4-4224-cf85-5e4d050b9713",
        "colab": {
          "base_uri": "https://localhost:8080/",
          "height": 34
        }
      },
      "source": [
        "import tensorflow as tf\n",
        "print(tf.__version__)"
      ],
      "execution_count": 3,
      "outputs": [
        {
          "output_type": "stream",
          "text": [
            "2.1.0\n"
          ],
          "name": "stdout"
        }
      ]
    },
    {
      "cell_type": "markdown",
      "metadata": {
        "id": "TOfHW5ILL-F_",
        "colab_type": "text"
      },
      "source": [
        "Play with tensorflow.\n",
        "\n",
        "The shape of a tensor looks like the dimensions of the data.\n",
        "\n",
        "Shape `[3, 2]` means the data have 3 rows and 2 columns.\n",
        "\n",
        "Shepe `[3, 4, 5]` means the data have 3 blocks with each block has 4 rows and 5 columns.\n",
        "\n",
        "And so on."
      ]
    },
    {
      "cell_type": "code",
      "metadata": {
        "id": "uLusv3tGL9kU",
        "colab_type": "code",
        "colab": {}
      },
      "source": [
        "play = tf.zeros([3,4,5,2], dtype=tf.int32)\n",
        "print(play)"
      ],
      "execution_count": 0,
      "outputs": []
    },
    {
      "cell_type": "markdown",
      "metadata": {
        "id": "P3davToDOmzl",
        "colab_type": "text"
      },
      "source": [
        "We get a varibale named `play` above.\n",
        "\n",
        "It has a shape of `[3, 4, 5, 2]`, which means it contains 3 x 4 x 5 x 2 zeros.\n",
        "\n",
        "Let me calculate it!"
      ]
    },
    {
      "cell_type": "code",
      "metadata": {
        "id": "ZcHJ9o0EPCpa",
        "colab_type": "code",
        "colab": {
          "base_uri": "https://localhost:8080/",
          "height": 34
        },
        "outputId": "511c445b-498f-4aa9-9b12-815b6c392b08"
      },
      "source": [
        "print(3 * 4 * 5 * 2)"
      ],
      "execution_count": 16,
      "outputs": [
        {
          "output_type": "stream",
          "text": [
            "120\n"
          ],
          "name": "stdout"
        }
      ]
    },
    {
      "cell_type": "markdown",
      "metadata": {
        "id": "q6HHcCxNPIkn",
        "colab_type": "text"
      },
      "source": [
        "It's 120!\n",
        "\n",
        "We got 120 zeros inside `play`!\n",
        "\n",
        "Let's reshape it into one array only, which means there will be only one dimension in the target data.\n",
        "\n",
        "Let's do it."
      ]
    },
    {
      "cell_type": "code",
      "metadata": {
        "id": "bKRct_BRPezh",
        "colab_type": "code",
        "colab": {
          "base_uri": "https://localhost:8080/",
          "height": 136
        },
        "outputId": "cc8378f7-3b20-47d8-fda5-a6635bff6bed"
      },
      "source": [
        "tf.reshape(play, [120])"
      ],
      "execution_count": 18,
      "outputs": [
        {
          "output_type": "execute_result",
          "data": {
            "text/plain": [
              "<tf.Tensor: shape=(120,), dtype=int32, numpy=\n",
              "array([0, 0, 0, 0, 0, 0, 0, 0, 0, 0, 0, 0, 0, 0, 0, 0, 0, 0, 0, 0, 0, 0,\n",
              "       0, 0, 0, 0, 0, 0, 0, 0, 0, 0, 0, 0, 0, 0, 0, 0, 0, 0, 0, 0, 0, 0,\n",
              "       0, 0, 0, 0, 0, 0, 0, 0, 0, 0, 0, 0, 0, 0, 0, 0, 0, 0, 0, 0, 0, 0,\n",
              "       0, 0, 0, 0, 0, 0, 0, 0, 0, 0, 0, 0, 0, 0, 0, 0, 0, 0, 0, 0, 0, 0,\n",
              "       0, 0, 0, 0, 0, 0, 0, 0, 0, 0, 0, 0, 0, 0, 0, 0, 0, 0, 0, 0, 0, 0,\n",
              "       0, 0, 0, 0, 0, 0, 0, 0, 0, 0], dtype=int32)>"
            ]
          },
          "metadata": {
            "tags": []
          },
          "execution_count": 18
        }
      ]
    },
    {
      "cell_type": "markdown",
      "metadata": {
        "id": "0GudbqaSPxj8",
        "colab_type": "text"
      },
      "source": [
        "Cool! Reshape is convenient!\n",
        "\n",
        "Just do some play with reshape and see the result.\n",
        "\n",
        "Use `-1` to indicate that we do not care this argument, and then it will be calculate automatically by the tensorflow itself.\n",
        "\n",
        "But if the number of values is impossible to be divided by the given arguments, an invalid argument error will be thrown.\n",
        "\n",
        "It is resonable."
      ]
    },
    {
      "cell_type": "code",
      "metadata": {
        "id": "rwRIffxGQLd7",
        "colab_type": "code",
        "colab": {
          "base_uri": "https://localhost:8080/",
          "height": 204
        },
        "outputId": "822dabfb-a031-40ac-9a49-002263236ba7"
      },
      "source": [
        "tf.reshape(play, [10, -1])"
      ],
      "execution_count": 23,
      "outputs": [
        {
          "output_type": "execute_result",
          "data": {
            "text/plain": [
              "<tf.Tensor: shape=(10, 12), dtype=int32, numpy=\n",
              "array([[0, 0, 0, 0, 0, 0, 0, 0, 0, 0, 0, 0],\n",
              "       [0, 0, 0, 0, 0, 0, 0, 0, 0, 0, 0, 0],\n",
              "       [0, 0, 0, 0, 0, 0, 0, 0, 0, 0, 0, 0],\n",
              "       [0, 0, 0, 0, 0, 0, 0, 0, 0, 0, 0, 0],\n",
              "       [0, 0, 0, 0, 0, 0, 0, 0, 0, 0, 0, 0],\n",
              "       [0, 0, 0, 0, 0, 0, 0, 0, 0, 0, 0, 0],\n",
              "       [0, 0, 0, 0, 0, 0, 0, 0, 0, 0, 0, 0],\n",
              "       [0, 0, 0, 0, 0, 0, 0, 0, 0, 0, 0, 0],\n",
              "       [0, 0, 0, 0, 0, 0, 0, 0, 0, 0, 0, 0],\n",
              "       [0, 0, 0, 0, 0, 0, 0, 0, 0, 0, 0, 0]], dtype=int32)>"
            ]
          },
          "metadata": {
            "tags": []
          },
          "execution_count": 23
        }
      ]
    }
  ]
}