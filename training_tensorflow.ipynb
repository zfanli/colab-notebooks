{
  "nbformat": 4,
  "nbformat_minor": 0,
  "metadata": {
    "colab": {
      "name": "training-tensorflow.ipynb",
      "provenance": [],
      "collapsed_sections": [],
      "authorship_tag": "ABX9TyMBpOGyuX1Uzcv652GLl3a8",
      "include_colab_link": true
    },
    "kernelspec": {
      "name": "python3",
      "display_name": "Python 3"
    }
  },
  "cells": [
    {
      "cell_type": "markdown",
      "metadata": {
        "id": "view-in-github",
        "colab_type": "text"
      },
      "source": [
        "<a href=\"https://colab.research.google.com/github/zfanli/colab-notebooks/blob/master/training_tensorflow.ipynb\" target=\"_parent\"><img src=\"https://colab.research.google.com/assets/colab-badge.svg\" alt=\"Open In Colab\"/></a>"
      ]
    },
    {
      "cell_type": "markdown",
      "metadata": {
        "id": "Fl0FCSI3FYQn",
        "colab_type": "text"
      },
      "source": [
        "[![Open In Colab](https://colab.research.google.com/assets/colab-badge.svg)](https://colab.research.google.com/githut/zfanli/colab-notebooks/training-tensorflow.ipynb)"
      ]
    },
    {
      "cell_type": "markdown",
      "metadata": {
        "id": "1ZB7g-AzHHKo",
        "colab_type": "text"
      },
      "source": [
        "## training tensorflow"
      ]
    },
    {
      "cell_type": "markdown",
      "metadata": {
        "id": "rKmc6g0zHmEc",
        "colab_type": "text"
      },
      "source": [
        "Specify the version of tensorflow for further use."
      ]
    },
    {
      "cell_type": "code",
      "metadata": {
        "id": "07QYvCXkHklU",
        "colab_type": "code",
        "outputId": "8a48b1dc-23a4-410a-afd0-6f56397e6d9f",
        "colab": {
          "base_uri": "https://localhost:8080/",
          "height": 34
        }
      },
      "source": [
        "%tensorflow_version 2.x"
      ],
      "execution_count": 0,
      "outputs": [
        {
          "output_type": "stream",
          "text": [
            "TensorFlow 2.x selected.\n"
          ],
          "name": "stdout"
        }
      ]
    },
    {
      "cell_type": "markdown",
      "metadata": {
        "id": "D0ka0swcITnw",
        "colab_type": "text"
      },
      "source": [
        "Then import tensorflow."
      ]
    },
    {
      "cell_type": "code",
      "metadata": {
        "id": "iGIZDZcAISdW",
        "colab_type": "code",
        "outputId": "22bcdff6-50de-46cf-9cb4-8e5bbc3947a7",
        "colab": {
          "base_uri": "https://localhost:8080/",
          "height": 34
        }
      },
      "source": [
        "import tensorflow\n",
        "print(tensorflow.__version__)"
      ],
      "execution_count": 0,
      "outputs": [
        {
          "output_type": "stream",
          "text": [
            "2.1.0\n"
          ],
          "name": "stdout"
        }
      ]
    }
  ]
}