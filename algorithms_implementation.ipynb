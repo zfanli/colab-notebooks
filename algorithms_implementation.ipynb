{
  "nbformat": 4,
  "nbformat_minor": 0,
  "metadata": {
    "colab": {
      "name": "algorithms-implementation.ipynb",
      "provenance": [],
      "collapsed_sections": [],
      "authorship_tag": "ABX9TyNeKV2G7pqvnV4Qr3TwdEil",
      "include_colab_link": true
    },
    "kernelspec": {
      "name": "python3",
      "display_name": "Python 3"
    }
  },
  "cells": [
    {
      "cell_type": "markdown",
      "metadata": {
        "id": "view-in-github",
        "colab_type": "text"
      },
      "source": [
        "<a href=\"https://colab.research.google.com/github/zfanli/colab-notebooks/blob/master/algorithms_implementation.ipynb\" target=\"_parent\"><img src=\"https://colab.research.google.com/assets/colab-badge.svg\" alt=\"Open In Colab\"/></a>"
      ]
    },
    {
      "cell_type": "markdown",
      "metadata": {
        "id": "tjZorSgZiDcX",
        "colab_type": "text"
      },
      "source": [
        "# Some simple algorithms implementing in Python\n",
        "\n",
        "**Bubble Sort**\n",
        "\n",
        "A simple sort algorithms.\n",
        "\n",
        "First setup an array for sort use. \n",
        "\n",
        "Just generate a random array with specific numbers of elements."
      ]
    },
    {
      "cell_type": "code",
      "metadata": {
        "id": "TYriCgQPidBT",
        "colab_type": "code",
        "colab": {
          "base_uri": "https://localhost:8080/",
          "height": 282
        },
        "outputId": "4db5adda-78c5-400e-99ba-9565e3a17a63"
      },
      "source": [
        "import random\n",
        "import matplotlib.pyplot as plt\n",
        "\n",
        "# set size\n",
        "size = 10\n",
        "# set pos\n",
        "pos = [x + 1 for x in range(size)]\n",
        "# shuffle targets\n",
        "target = pos.copy()\n",
        "random.shuffle(target)\n",
        "plt.bar(pos, target)"
      ],
      "execution_count": null,
      "outputs": [
        {
          "output_type": "execute_result",
          "data": {
            "text/plain": [
              "<BarContainer object of 10 artists>"
            ]
          },
          "metadata": {
            "tags": []
          },
          "execution_count": 4
        },
        {
          "output_type": "display_data",
          "data": {
            "image/png": "[encoded data removed]",
            "text/plain": [
              "<Figure size 432x288 with 1 Axes>"
            ]
          },
          "metadata": {
            "tags": [],
            "needs_background": "light"
          }
        }
      ]
    },
    {
      "cell_type": "markdown",
      "metadata": {
        "id": "9oAQnXmDdePp",
        "colab_type": "text"
      },
      "source": [
        "Then, define the bubble sort function.\n",
        "\n",
        "There are many ways to implement it but the key point is keep the performance in mind.\n",
        "\n",
        "For bubble sort, the "
      ]
    },
    {
      "cell_type": "code",
      "metadata": {
        "id": "mH01BAQug11s",
        "colab_type": "code",
        "colab": {}
      },
      "source": [
        "def bubble(arr):\n",
        "  \"\"\"Bubble Sort algorithm\"\"\"\n",
        "  # make a copy of the origin array\n",
        "  array = arr.copy()\n",
        "  # keep max index\n",
        "  maxidx = len(array)\n",
        "  # set step counter\n",
        "  count = 0\n",
        "  # we're expecting that each round will solve one sorted number,\n",
        "  # so set the sorted offset by iterate it to the max index\n",
        "  for sortedcount in range(0, maxidx):\n",
        "    for i in reversed(range(sortedcount + 1, maxidx)):\n",
        "      # track steps\n",
        "      count += 1\n",
        "      if array[i - 1] > array[i]:\n",
        "        array[i - 1], array[i] = array[i], array[i - 1]\n",
        "  # show actual steps\n",
        "  print(\"Actual steps:\", count)\n",
        "  return array\n"
      ],
      "execution_count": null,
      "outputs": []
    },
    {
      "cell_type": "code",
      "metadata": {
        "id": "ZAiFbkPIdApV",
        "colab_type": "code",
        "colab": {
          "base_uri": "https://localhost:8080/",
          "height": 350
        },
        "outputId": "b5920b97-47c7-4f21-f9a8-19121381b7bc"
      },
      "source": [
        "# test func\n",
        "result = bubble(target)\n",
        "\n",
        "# calculate expected steps\n",
        "expected = 0\n",
        "for x in range(size):\n",
        "  expected += x\n",
        "# verify if the actual steps matach our expectation\n",
        "print('Expected steps:', expected)\n",
        "# show the origin\n",
        "print(target)\n",
        "# show the sorted array\n",
        "print(result)\n",
        "# show a bar chart\n",
        "plt.bar(pos, result)"
      ],
      "execution_count": null,
      "outputs": [
        {
          "output_type": "stream",
          "text": [
            "Actual steps: 45\n",
            "Expected steps: 45\n",
            "[5, 9, 8, 1, 6, 4, 2, 10, 3, 7]\n",
            "[1, 2, 3, 4, 5, 6, 7, 8, 9, 10]\n"
          ],
          "name": "stdout"
        },
        {
          "output_type": "execute_result",
          "data": {
            "text/plain": [
              "<BarContainer object of 10 artists>"
            ]
          },
          "metadata": {
            "tags": []
          },
          "execution_count": 7
        },
        {
          "output_type": "display_data",
          "data": {
            "image/png": "[encoded data removed]",
            "text/plain": [
              "<Figure size 432x288 with 1 Axes>"
            ]
          },
          "metadata": {
            "tags": [],
            "needs_background": "light"
          }
        }
      ]
    }
  ]
}